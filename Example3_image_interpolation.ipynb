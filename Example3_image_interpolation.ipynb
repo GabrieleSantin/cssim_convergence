{
 "cells": [
  {
   "cell_type": "markdown",
   "metadata": {},
   "source": [
    "### Example 3: Image Interpolation"
   ]
  },
  {
   "cell_type": "markdown",
   "metadata": {},
   "source": [
    "### Imports"
   ]
  },
  {
   "cell_type": "code",
   "execution_count": null,
   "metadata": {},
   "outputs": [],
   "source": [
    "import cv2\n",
    "import numpy as np\n",
    "import matplotlib.pyplot as plt\n",
    "import os.path as osp\n",
    "from utils import DSSIM, cf, cf_g\n",
    "\n",
    "plt.rcParams.update({'font.size': 12})\n",
    "\n",
    "%reload_ext autoreload\n",
    "%autoreload 2"
   ]
  },
  {
   "cell_type": "markdown",
   "metadata": {},
   "source": [
    "## Definition of the target function/image"
   ]
  },
  {
   "cell_type": "code",
   "execution_count": null,
   "metadata": {},
   "outputs": [],
   "source": [
    "pic_folder = './pic'\n",
    "pic_file = 'cameraman' # pic_file = 'baboon', 'cameraman', 'lenna', 'peppers'\n",
    "\n",
    "src = cv2.imread(osp.join(pic_folder, pic_file + '.png'))\n",
    "\n",
    "src = cv2.cvtColor(src, cv2.COLOR_BGR2GRAY)\n",
    "src = src / np.max(src)"
   ]
  },
  {
   "cell_type": "markdown",
   "metadata": {},
   "source": [
    "## Computation of the asymptotic constant"
   ]
  },
  {
   "cell_type": "code",
   "execution_count": null,
   "metadata": {},
   "outputs": [],
   "source": [
    "c_f = cf(src.flatten())"
   ]
  },
  {
   "cell_type": "markdown",
   "metadata": {},
   "source": [
    "## Computation of the interpolants"
   ]
  },
  {
   "cell_type": "code",
   "execution_count": null,
   "metadata": {},
   "outputs": [],
   "source": [
    "# Fill distance\n",
    "h = []\n",
    "pixels = []\n",
    "\n",
    "# DSSIM\n",
    "dssim1 = []\n",
    "dssim2 = []\n",
    "\n",
    "# L2 error\n",
    "l2_1 = []\n",
    "l2_2 = []\n",
    "\n",
    "# c_fg\n",
    "g_dependent_const_1 = []\n",
    "g_dependent_const_2 = []\n",
    "\n",
    "\n",
    "# Run for different grid sizes\n",
    "for k in range(1, 5):\n",
    "\n",
    "    # Define the grid step size\n",
    "    step = 2 ** (-k -2) / 5\n",
    "    \n",
    "    # Compute the number of pixels\n",
    "    pixel = int(1/step)\n",
    "    pixels.append(pixel)\n",
    "    print('Solving the interpolation problems with %5d pixels' % (pixel ** 2))\n",
    "    \n",
    "    # Store the fill distance    \n",
    "    h.append(np.sqrt(2) / 2 * step)\n",
    "    \n",
    "    # Compute the bilinear interpolant\n",
    "    val = cv2.resize(cv2.resize(src, (pixel, pixel)), (512, 512), interpolation=cv2.INTER_LINEAR)\n",
    "    dssim1.append(DSSIM(val.flatten(), src.flatten()))\n",
    "    l2_1.append(np.linalg.norm(val.flatten() - src.flatten(), 2) ** 2  / (src.shape[0]**2))\n",
    "    g_dependent_const_1.append(cf_g(val.flatten(), src.flatten()))\n",
    "    \n",
    "    # Compute the bicubic interpolant\n",
    "    val = cv2.resize(cv2.resize(src, (pixel, pixel)), (512, 512), interpolation=cv2.INTER_CUBIC)\n",
    "    dssim2.append(DSSIM(val.flatten(), src.flatten()))\n",
    "    l2_2.append(np.linalg.norm(val.flatten() - src.flatten(), 2) ** 2  / (src.shape[0]**2))\n",
    "    g_dependent_const_2.append(cf_g(val.flatten(), src.flatten()))"
   ]
  },
  {
   "cell_type": "markdown",
   "metadata": {},
   "source": [
    "## Plot"
   ]
  },
  {
   "cell_type": "markdown",
   "metadata": {},
   "source": [
    "### Cleanup"
   ]
  },
  {
   "cell_type": "code",
   "execution_count": null,
   "metadata": {},
   "outputs": [],
   "source": [
    "dssim1 = np.array(dssim1)\n",
    "dssim2 = np.array(dssim2)\n",
    "\n",
    "dssim1[np.where(dssim1<1e-16)[0]] = 1e-17\n",
    "dssim2[np.where(dssim2<1e-16)[0]] = 1e-17\n",
    "\n",
    "h = np.array(h)\n",
    "\n",
    "g_dependent_const_1 = np.array(g_dependent_const_1)\n",
    "g_dependent_const_2 = np.array(g_dependent_const_2)\n",
    "\n",
    "l2_1 = np.array(l2_1)\n",
    "l2_2 = np.array(l2_2)"
   ]
  },
  {
   "cell_type": "markdown",
   "metadata": {},
   "source": [
    "### Estimation of the asymptotic rates"
   ]
  },
  {
   "cell_type": "code",
   "execution_count": null,
   "metadata": {},
   "outputs": [],
   "source": [
    "idx = np.argwhere(np.abs(dssim1) > 1e-16).ravel()\n",
    "c1 = np.polyfit(np.log(h[idx]), np.log(dssim1[idx]), 1)\n",
    "idx = np.argwhere(np.abs(dssim2) > 1e-16).ravel()\n",
    "c2 = np.polyfit(np.log(h[idx]), np.log(dssim2[idx]), 1)\n",
    "\n",
    "c_l2_1 = np.mean(np.array(dssim1) / (c_f * l2_1))\n",
    "c_l2_2 = np.mean(np.array(dssim2) / (c_f * l2_2))"
   ]
  },
  {
   "cell_type": "markdown",
   "metadata": {},
   "source": [
    "### Plot"
   ]
  },
  {
   "cell_type": "code",
   "execution_count": null,
   "metadata": {},
   "outputs": [],
   "source": [
    "fig = plt.figure(figsize=(8, 6))\n",
    "fig.clf()\n",
    "\n",
    "ax = fig.add_subplot(1, 2, 1)\n",
    "ax.loglog(h, dssim1, 'o-')\n",
    "ax.loglog(h, np.exp(c1[1]) * h ** c1[0], '--')\n",
    "ax.loglog(h, g_dependent_const_1 * l2_1, '--')\n",
    "ax.loglog(h, c_l2_1 * c_f * l2_1, '--')\n",
    "ax.grid(True)\n",
    "ax.legend(['DSSIM', '$%1.1e \\cdot h_X^{%2.2f}$' % (np.exp(c1[1]), c1[0]), \n",
    "           '$c_f \\cdot L_2$', '$c_{fg} \\cdot L_2$'],\n",
    "           loc='upper left')\n",
    "ax.set_xlabel('$h_X$')\n",
    "ax.set_title('Bilinear')\n",
    "ax.tick_params(\n",
    "    axis='x',          \n",
    "    which='both',      \n",
    "    bottom=False,      \n",
    "    top=False,         \n",
    "    labelbottom=False) \n",
    "\n",
    "ax = fig.add_subplot(1, 2, 2)\n",
    "ax.loglog(h, dssim2, 'o-')\n",
    "ax.loglog(h, np.exp(c2[1]) * h ** c2[0], '--')\n",
    "ax.loglog(h, c_f * l2_2, '--')\n",
    "ax.loglog(h, g_dependent_const_2 * l2_2, '--')\n",
    "ax.grid(True)\n",
    "ax.legend(['DSSIM', '$%1.1e \\cdot h_X^{%2.2f}$' % (np.exp(c2[1]), c2[0]), \n",
    "           '$c_f \\cdot L_2$', '$c_{fg} \\cdot L_2$'],\n",
    "          loc='upper left')\n",
    "ax.set_xlabel('$h_X$')\n",
    "ax.set_title('Bicubic')\n",
    "ax.tick_params(\n",
    "    axis='x',          \n",
    "    which='both',      \n",
    "    bottom=False,      \n",
    "    top=False,         \n",
    "    labelbottom=False) \n",
    "ax.yaxis.tick_right()\n",
    "ax.yaxis.set_label_position('right')\n",
    "\n",
    "fig.tight_layout()\n",
    "fig.savefig('image_' + pic_file + '.pdf')"
   ]
  },
  {
   "cell_type": "code",
   "execution_count": null,
   "metadata": {},
   "outputs": [],
   "source": []
  }
 ],
 "metadata": {
  "kernelspec": {
   "display_name": "Python 3",
   "language": "python",
   "name": "python3"
  },
  "language_info": {
   "codemirror_mode": {
    "name": "ipython",
    "version": 3
   },
   "file_extension": ".py",
   "mimetype": "text/x-python",
   "name": "python",
   "nbconvert_exporter": "python",
   "pygments_lexer": "ipython3",
   "version": "3.8.3"
  }
 },
 "nbformat": 4,
 "nbformat_minor": 4
}
